{
 "cells": [
  {
   "attachments": {},
   "cell_type": "markdown",
   "metadata": {},
   "source": [
    "# [DistilBERT, a distilled version of BERT: smaller, faster, cheaper and lighter](https://arxiv.org/abs/1910.01108)\n",
    "\n",
    "In this lecture, we will explore the architecture of DistilBERT, its key components, and how it can be utilized for various natural language processing tasks. Additionally, we'll discuss its advantages, limitations, and provide hands-on examples to showcase its effectiveness.\n",
    "\n",
    "Reference : [The Theory](https://towardsdatascience.com/distillation-of-bert-like-models-the-code-73c31e8c2b0a) | [Code](https://towardsdatascience.com/distillation-of-bert-like-models-the-theory-32e19a02641f)"
   ]
  },
  {
   "cell_type": "code",
   "execution_count": 1,
   "metadata": {},
   "outputs": [],
   "source": [
    "#pip install torch torchvision torchaudio --index-url https://download.pytorch.org/whl/cu121"
   ]
  },
  {
   "cell_type": "code",
   "execution_count": 2,
   "metadata": {},
   "outputs": [],
   "source": [
    "#pip install datasets"
   ]
  },
  {
   "cell_type": "code",
   "execution_count": 3,
   "metadata": {},
   "outputs": [],
   "source": [
    "#pip install transformers"
   ]
  },
  {
   "cell_type": "code",
   "execution_count": 4,
   "metadata": {},
   "outputs": [
    {
     "name": "stderr",
     "output_type": "stream",
     "text": [
      "c:\\Users\\Jue\\Desktop\\A7\\.venv\\Lib\\site-packages\\tqdm\\auto.py:21: TqdmWarning: IProgress not found. Please update jupyter and ipywidgets. See https://ipywidgets.readthedocs.io/en/stable/user_install.html\n",
      "  from .autonotebook import tqdm as notebook_tqdm\n"
     ]
    },
    {
     "data": {
      "text/plain": [
       "('3.4.1', '4.50.0', '2.5.1+cu121')"
      ]
     },
     "execution_count": 4,
     "metadata": {},
     "output_type": "execute_result"
    }
   ],
   "source": [
    "# !pip install datasets --upgrade\n",
    "import datasets\n",
    "import transformers\n",
    "import torch\n",
    "datasets.__version__, transformers.__version__, torch.__version__"
   ]
  },
  {
   "cell_type": "code",
   "execution_count": 5,
   "metadata": {},
   "outputs": [
    {
     "name": "stdout",
     "output_type": "stream",
     "text": [
      "cuda\n"
     ]
    }
   ],
   "source": [
    "import torch.nn as nn\n",
    "import torch\n",
    "from tqdm.auto import tqdm\n",
    "import random, math, time\n",
    "\n",
    "device = torch.device('cuda' if torch.cuda.is_available() else 'cpu')\n",
    "print(device)\n",
    "\n",
    "#make our work comparable if restarted the kernel\n",
    "SEED = 1234\n",
    "torch.manual_seed(SEED)\n",
    "torch.backends.cudnn.deterministic = True"
   ]
  },
  {
   "cell_type": "code",
   "execution_count": null,
   "metadata": {},
   "outputs": [],
   "source": []
  },
  {
   "attachments": {},
   "cell_type": "markdown",
   "metadata": {},
   "source": [
    "## 1. Loading our MNLI part of the GLUE dataset"
   ]
  },
  {
   "cell_type": "code",
   "execution_count": 6,
   "metadata": {},
   "outputs": [],
   "source": [
    "#pip install scikit_learn"
   ]
  },
  {
   "cell_type": "code",
   "execution_count": 7,
   "metadata": {
    "scrolled": true
   },
   "outputs": [],
   "source": [
    "from datasets import load_dataset\n",
    "\n",
    "def get_hate_speech_dataset():\n",
    "    \"\"\"Loads the hate_speech_offensive dataset.\"\"\"\n",
    "    return load_dataset(\"hate_speech_offensive\")\n",
    "\n",
    "dataset = get_hate_speech_dataset()"
   ]
  },
  {
   "cell_type": "code",
   "execution_count": 8,
   "metadata": {},
   "outputs": [],
   "source": [
    "label_list = [\"Non-Hate\", \"Offensive\", \"Hate\"]\n",
    "label2id = dict(zip(label_list, range(len(label_list))))\n",
    "id2label = dict(zip(label2id.values(), label2id.keys()))\n"
   ]
  },
  {
   "cell_type": "code",
   "execution_count": 9,
   "metadata": {},
   "outputs": [],
   "source": [
    "task_to_keys = {\"hatexplain\": \"tweet\"}\n",
    "task_name = \"hatexplain\"\n",
    "sentence_key = task_to_keys.get(task_name, \"default_key\")"
   ]
  },
  {
   "cell_type": "code",
   "execution_count": 10,
   "metadata": {},
   "outputs": [
    {
     "name": "stdout",
     "output_type": "stream",
     "text": [
      "Dataset Overview:\n",
      " DatasetDict({\n",
      "    train: Dataset({\n",
      "        features: ['count', 'hate_speech_count', 'offensive_language_count', 'neither_count', 'class', 'tweet'],\n",
      "        num_rows: 24783\n",
      "    })\n",
      "})\n",
      "Example Sentence: !!! RT @mayasolovely: As a woman you shouldn't complain about cleaning up your house. &amp; as a man you should always take the trash out...\n",
      "Label to ID Mapping: {'Non-Hate': 0, 'Offensive': 1, 'Hate': 2}\n",
      "ID to Label Mapping: {0: 'Non-Hate', 1: 'Offensive', 2: 'Hate'}\n"
     ]
    }
   ],
   "source": [
    "def show_dataset_info(dataset, sentence_key, label2id, id2label):\n",
    "    print(\"Dataset Overview:\\n\", dataset)\n",
    "    print(\"Example Sentence:\", dataset[\"train\"][0][sentence_key])\n",
    "    print(\"Label to ID Mapping:\", label2id)\n",
    "    print(\"ID to Label Mapping:\", id2label)\n",
    "\n",
    "show_dataset_info(dataset, sentence_key, label2id, id2label)"
   ]
  },
  {
   "attachments": {},
   "cell_type": "markdown",
   "metadata": {},
   "source": [
    "## 2. Model & Tokenization"
   ]
  },
  {
   "cell_type": "code",
   "execution_count": 11,
   "metadata": {},
   "outputs": [
    {
     "name": "stdout",
     "output_type": "stream",
     "text": [
      "Unique label count: 3\n"
     ]
    }
   ],
   "source": [
    "def count_unique_labels(labels):\n",
    "    return len(labels)\n",
    "\n",
    "num_labels = count_unique_labels(label_list)\n",
    "print(f\"Unique label count: {num_labels}\")"
   ]
  },
  {
   "cell_type": "code",
   "execution_count": 12,
   "metadata": {},
   "outputs": [],
   "source": [
    "from transformers import AutoTokenizer\n",
    "\n",
    "teacher_id = \"bert-base-uncased\"\n",
    "\n",
    "try:\n",
    "    tokenizer = AutoTokenizer.from_pretrained(teacher_id)\n",
    "except Exception as e:\n",
    "    print(f\"Error loading tokenizer for {teacher_id}: {e}\")\n",
    "    tokenizer = None\n"
   ]
  },
  {
   "cell_type": "code",
   "execution_count": 13,
   "metadata": {},
   "outputs": [
    {
     "name": "stderr",
     "output_type": "stream",
     "text": [
      "Some weights of BertForSequenceClassification were not initialized from the model checkpoint at bert-base-uncased and are newly initialized: ['classifier.bias', 'classifier.weight']\n",
      "You should probably TRAIN this model on a down-stream task to be able to use it for predictions and inference.\n"
     ]
    }
   ],
   "source": [
    "from transformers import AutoModelForSequenceClassification, AutoTokenizer\n",
    "def load_teacher_model(model_id, num_labels, label2id, id2label):\n",
    "    return AutoModelForSequenceClassification.from_pretrained(\n",
    "        model_id,\n",
    "        num_labels=num_labels,\n",
    "        id2label=id2label,\n",
    "        label2id=label2id,\n",
    "    )\n",
    "\n",
    "teacher_model = load_teacher_model(teacher_id, num_labels, label2id, id2label)\n"
   ]
  },
  {
   "cell_type": "code",
   "execution_count": 14,
   "metadata": {},
   "outputs": [],
   "source": [
    "tokenize_function = lambda examples: tokenizer(\n",
    "    examples[\"tweet\"], max_length=128, truncation=True, padding=\"max_length\"\n",
    ")\n"
   ]
  },
  {
   "cell_type": "code",
   "execution_count": 15,
   "metadata": {},
   "outputs": [],
   "source": [
    "tokenized_datasets = dataset.map(lambda x: tokenizer(x[\"tweet\"], max_length=128, truncation=True, padding=\"max_length\"), batched=True)\n"
   ]
  },
  {
   "attachments": {},
   "cell_type": "markdown",
   "metadata": {},
   "source": [
    "## 3. Preprocessing "
   ]
  },
  {
   "cell_type": "code",
   "execution_count": 16,
   "metadata": {},
   "outputs": [
    {
     "name": "stdout",
     "output_type": "stream",
     "text": [
      "Input IDs: tensor([  101,   999,   999,   999, 19387,  1030,  9815, 19454, 21818,  2135,\n",
      "         1024,  2004,  1037,  2450,  2017,  5807,  1005,  1056, 17612,  2055,\n",
      "         9344,  2039,  2115,  2160,  1012,  1004, 23713,  1025,  2004,  1037,\n",
      "         2158,  2017,  2323,  2467,  2202,  1996, 11669,  2041,  1012,  1012,\n",
      "         1012,   102,     0,     0,     0,     0,     0,     0,     0,     0,\n",
      "            0,     0,     0,     0,     0,     0,     0,     0,     0,     0,\n",
      "            0,     0,     0,     0,     0,     0,     0,     0,     0,     0,\n",
      "            0,     0,     0,     0,     0,     0,     0,     0,     0,     0,\n",
      "            0,     0,     0,     0,     0,     0,     0,     0,     0,     0,\n",
      "            0,     0,     0,     0,     0,     0,     0,     0,     0,     0,\n",
      "            0,     0,     0,     0,     0,     0,     0,     0,     0,     0,\n",
      "            0,     0,     0,     0,     0,     0,     0,     0,     0,     0,\n",
      "            0,     0,     0,     0,     0,     0,     0,     0])\n",
      "Decoded text: [CLS]!!! rt @ mayasolovely : as a woman you shouldn ' t complain about cleaning up your house. & amp ; as a man you should always take the trash out... [SEP] [PAD] [PAD] [PAD] [PAD] [PAD] [PAD] [PAD] [PAD] [PAD] [PAD] [PAD] [PAD] [PAD] [PAD] [PAD] [PAD] [PAD] [PAD] [PAD] [PAD] [PAD] [PAD] [PAD] [PAD] [PAD] [PAD] [PAD] [PAD] [PAD] [PAD] [PAD] [PAD] [PAD] [PAD] [PAD] [PAD] [PAD] [PAD] [PAD] [PAD] [PAD] [PAD] [PAD] [PAD] [PAD] [PAD] [PAD] [PAD] [PAD] [PAD] [PAD] [PAD] [PAD] [PAD] [PAD] [PAD] [PAD] [PAD] [PAD] [PAD] [PAD] [PAD] [PAD] [PAD] [PAD] [PAD] [PAD] [PAD] [PAD] [PAD] [PAD] [PAD] [PAD] [PAD] [PAD] [PAD] [PAD] [PAD] [PAD] [PAD] [PAD] [PAD] [PAD] [PAD] [PAD] [PAD]\n"
     ]
    }
   ],
   "source": [
    "def preprocess_dataset(dataset, tokenizer):\n",
    "    dataset = dataset.remove_columns([\n",
    "        \"count\", \"hate_speech_count\", \"offensive_language_count\", \"neither_count\", \"tweet\"\n",
    "    ])\n",
    "    dataset = dataset.rename_column(\"class\", \"labels\")\n",
    "    dataset.set_format(\"torch\")\n",
    "    sample_ids = dataset[\"train\"][0][\"input_ids\"]\n",
    "    print(\"Input IDs:\", sample_ids)\n",
    "    print(\"Decoded text:\", tokenizer.decode(sample_ids))\n",
    "    return dataset\n",
    "\n",
    "tokenized_datasets = preprocess_dataset(tokenized_datasets, tokenizer)\n"
   ]
  },
  {
   "attachments": {},
   "cell_type": "markdown",
   "metadata": {},
   "source": [
    "## 4. Preparing the dataloader"
   ]
  },
  {
   "cell_type": "code",
   "execution_count": 17,
   "metadata": {},
   "outputs": [],
   "source": [
    "from transformers import DataCollatorWithPadding\n",
    "def create_data_collator(tokenizer):\n",
    "    return DataCollatorWithPadding(tokenizer=tokenizer)\n",
    "\n",
    "data_collator = create_data_collator(tokenizer)\n"
   ]
  },
  {
   "cell_type": "code",
   "execution_count": 18,
   "metadata": {},
   "outputs": [],
   "source": [
    "subset_sizes = {\"train\": 10_000, \"eval\": 1_000, \"test\": 1_000}\n",
    "shuffled = tokenized_datasets[\"train\"].shuffle(seed=1150)\n",
    "\n",
    "small_train_dataset = shuffled.select(range(subset_sizes[\"train\"]))\n",
    "small_eval_dataset = shuffled.select(range(subset_sizes[\"eval\"]))\n",
    "small_test_dataset = shuffled.select(range(subset_sizes[\"test\"]))\n"
   ]
  },
  {
   "cell_type": "code",
   "execution_count": 19,
   "metadata": {},
   "outputs": [],
   "source": [
    "from torch.utils.data import DataLoader\n",
    "def create_dataloader(dataset, batch_size=32, shuffle=False, collator=None):\n",
    "    return DataLoader(dataset, batch_size=batch_size, shuffle=shuffle, collate_fn=collator)\n",
    "\n",
    "train_dataloader = create_dataloader(small_train_dataset, shuffle=True, collator=data_collator)\n",
    "eval_dataloader  = create_dataloader(small_eval_dataset, collator=data_collator)\n",
    "test_dataloader  = create_dataloader(small_test_dataset, collator=data_collator)\n"
   ]
  },
  {
   "cell_type": "code",
   "execution_count": 20,
   "metadata": {},
   "outputs": [
    {
     "data": {
      "text/plain": [
       "(torch.Size([32]), torch.Size([32, 128]), torch.Size([32, 128]))"
      ]
     },
     "execution_count": 20,
     "metadata": {},
     "output_type": "execute_result"
    }
   ],
   "source": [
    "batch = next(iter(train_dataloader))\n",
    "batch['labels'].shape, batch['input_ids'].shape, batch['attention_mask'].shape\n"
   ]
  },
  {
   "attachments": {},
   "cell_type": "markdown",
   "metadata": {},
   "source": [
    "## 5. Design the model and losses"
   ]
  },
  {
   "cell_type": "markdown",
   "metadata": {},
   "source": []
  },
  {
   "attachments": {},
   "cell_type": "markdown",
   "metadata": {},
   "source": [
    "### 5.1 Teacher Model & Student Model\n",
    "\n",
    "####  Architecture \n",
    "In the present work, the student - DistilBERT - has the same general architecture as BERT. \n",
    "- The `token-type embeddings` and the `pooler` are removed while `the number of layers` is reduced by a factor of 2. \n",
    "- Most of the operations used in the Transformer architecture `linear layer` and `layer normalisation` are highly optimized in modern linear algebra frameworks.\n",
    "- our investigations showed that variations on the last dimension of the tensor (hidden size dimension) have a smaller impact on computation efficiency (for a fixed parameters budget) than variations on other factors like the number of layers. \n",
    "- Thus we focus on reducing the number of layers.\n",
    "\n",
    "#### Initialize Student Model\n",
    "- To initialize a new model from an existing one, we need to access the weights of the old model (the teacher). \n",
    "- In order to get the weights, we first have to know how to access them. We’ll use BERT as our teacher model."
   ]
  },
  {
   "cell_type": "code",
   "execution_count": 21,
   "metadata": {},
   "outputs": [],
   "source": [
    "#pip install evaluate"
   ]
  },
  {
   "cell_type": "code",
   "execution_count": 22,
   "metadata": {},
   "outputs": [],
   "source": [
    "import torch.optim as optim\n",
    "import torch.nn.functional as F\n",
    "from transformers.models.bert.modeling_bert import BertModel, BertPreTrainedModel, BertConfig\n",
    "from tqdm.auto import tqdm\n",
    "import evaluate"
   ]
  },
  {
   "cell_type": "code",
   "execution_count": 23,
   "metadata": {},
   "outputs": [
    {
     "name": "stdout",
     "output_type": "stream",
     "text": [
      "Using GPU\n"
     ]
    }
   ],
   "source": [
    "if torch.cuda.is_available():\n",
    "    device = torch.device(\"cuda\")\n",
    "    print(\"Using GPU\")\n",
    "else:\n",
    "    device = torch.device(\"cpu\")\n",
    "    print(\"Using CPU\")\n",
    "\n",
    "configuration = teacher_model.config.to_dict()\n"
   ]
  },
  {
   "attachments": {},
   "cell_type": "markdown",
   "metadata": {},
   "source": [
    "#### \n",
    "- The student model has the same configuration, except the number of layers is reduced by a factor of 2\n",
    "- The student layers are initilized by copying one out of two layers of the teacher, starting with layer 0.\n",
    "- The head of the teacher is also copied."
   ]
  },
  {
   "cell_type": "code",
   "execution_count": 24,
   "metadata": {},
   "outputs": [],
   "source": [
    "def create_student_config(base_config, num_layers=6):\n",
    "    config_dict = base_config.to_dict()\n",
    "    config_dict[\"num_hidden_layers\"] = num_layers\n",
    "    return BertConfig.from_dict(config_dict)\n",
    "\n",
    "configuration = create_student_config(teacher_model.config, num_layers=6)\n"
   ]
  },
  {
   "cell_type": "code",
   "execution_count": 25,
   "metadata": {},
   "outputs": [],
   "source": [
    "def create_student_model(config):\n",
    "    return type(teacher_model)(config)\n",
    "\n",
    "student_model_odd = create_student_model(configuration)\n",
    "student_model_even = create_student_model(configuration)\n"
   ]
  },
  {
   "cell_type": "code",
   "execution_count": 26,
   "metadata": {},
   "outputs": [
    {
     "data": {
      "text/plain": [
       "BertForSequenceClassification(\n",
       "  (bert): BertModel(\n",
       "    (embeddings): BertEmbeddings(\n",
       "      (word_embeddings): Embedding(30522, 768, padding_idx=0)\n",
       "      (position_embeddings): Embedding(512, 768)\n",
       "      (token_type_embeddings): Embedding(2, 768)\n",
       "      (LayerNorm): LayerNorm((768,), eps=1e-12, elementwise_affine=True)\n",
       "      (dropout): Dropout(p=0.1, inplace=False)\n",
       "    )\n",
       "    (encoder): BertEncoder(\n",
       "      (layer): ModuleList(\n",
       "        (0-5): 6 x BertLayer(\n",
       "          (attention): BertAttention(\n",
       "            (self): BertSelfAttention(\n",
       "              (query): Linear(in_features=768, out_features=768, bias=True)\n",
       "              (key): Linear(in_features=768, out_features=768, bias=True)\n",
       "              (value): Linear(in_features=768, out_features=768, bias=True)\n",
       "              (dropout): Dropout(p=0.1, inplace=False)\n",
       "            )\n",
       "            (output): BertSelfOutput(\n",
       "              (dense): Linear(in_features=768, out_features=768, bias=True)\n",
       "              (LayerNorm): LayerNorm((768,), eps=1e-12, elementwise_affine=True)\n",
       "              (dropout): Dropout(p=0.1, inplace=False)\n",
       "            )\n",
       "          )\n",
       "          (intermediate): BertIntermediate(\n",
       "            (dense): Linear(in_features=768, out_features=3072, bias=True)\n",
       "            (intermediate_act_fn): GELUActivation()\n",
       "          )\n",
       "          (output): BertOutput(\n",
       "            (dense): Linear(in_features=3072, out_features=768, bias=True)\n",
       "            (LayerNorm): LayerNorm((768,), eps=1e-12, elementwise_affine=True)\n",
       "            (dropout): Dropout(p=0.1, inplace=False)\n",
       "          )\n",
       "        )\n",
       "      )\n",
       "    )\n",
       "    (pooler): BertPooler(\n",
       "      (dense): Linear(in_features=768, out_features=768, bias=True)\n",
       "      (activation): Tanh()\n",
       "    )\n",
       "  )\n",
       "  (dropout): Dropout(p=0.1, inplace=False)\n",
       "  (classifier): Linear(in_features=768, out_features=3, bias=True)\n",
       ")"
      ]
     },
     "execution_count": 26,
     "metadata": {},
     "output_type": "execute_result"
    }
   ],
   "source": [
    "student_model_odd"
   ]
  },
  {
   "attachments": {},
   "cell_type": "markdown",
   "metadata": {},
   "source": [
    "- Recursively copies the weights of the (teacher) to the (student).\n",
    "- This function is meant to be first called on a BertFor... model, but is then called on every children of that model recursively.\n",
    "- The only part that's not fully copied is the encoder, of which only half is copied."
   ]
  },
  {
   "cell_type": "code",
   "execution_count": 27,
   "metadata": {},
   "outputs": [],
   "source": [
    "def copy_selected_encoder_layers(teacher_layers, student_layers, layer_type):\n",
    "    indices = range(0, 12, 2) if layer_type == \"odd\" else range(1, 12, 2)\n",
    "    for i, idx in enumerate(indices):\n",
    "        student_layers[i].load_state_dict(teacher_layers[idx].state_dict())\n",
    "\n",
    "def distill(teacher, student, layer_type=\"odd\"):\n",
    "    if hasattr(teacher, \"encoder\") and hasattr(student, \"encoder\"):\n",
    "        copy_selected_encoder_layers(list(teacher.encoder.layer), list(student.encoder.layer), layer_type)\n",
    "\n",
    "    if hasattr(teacher, \"pooler\") and hasattr(student, \"pooler\"):\n",
    "        student.pooler.load_state_dict(teacher.pooler.state_dict())\n",
    "\n",
    "    return student"
   ]
  },
  {
   "cell_type": "code",
   "execution_count": 28,
   "metadata": {},
   "outputs": [],
   "source": [
    "def distill_models(teacher, students, types):\n",
    "    return [distill(teacher, student, t) for student, t in zip(students, types)]\n",
    "\n",
    "student_model_odd, student_model_even = distill_models(\n",
    "    teacher_model,\n",
    "    [student_model_odd, student_model_even],\n",
    "    [\"odd\", \"even\"]\n",
    ")\n"
   ]
  },
  {
   "cell_type": "code",
   "execution_count": 29,
   "metadata": {},
   "outputs": [],
   "source": [
    "# Move models to device\n",
    "student_model_odd = student_model_odd.to(device)\n",
    "student_model_even = student_model_even.to(device)\n",
    "teacher_model = teacher_model.to(device)"
   ]
  },
  {
   "cell_type": "code",
   "execution_count": 30,
   "metadata": {},
   "outputs": [
    {
     "name": "stdout",
     "output_type": "stream",
     "text": [
      "Teacher parameters: 109,484,547 (100.00%)\n",
      "Odd Student parameters: 66,957,315 (61.16%)\n",
      "Even Student parameters: 66,957,315 (61.16%)\n"
     ]
    }
   ],
   "source": [
    "def count_parameters(model):\n",
    "    return sum(p.numel() for p in model.parameters() if p.requires_grad)\n",
    "\n",
    "models = {\n",
    "    \"Teacher\": teacher_model,\n",
    "    \"Odd Student\": student_model_odd,\n",
    "    \"Even Student\": student_model_even\n",
    "}\n",
    "\n",
    "teacher_count = count_parameters(models[\"Teacher\"])\n",
    "\n",
    "for name, model in models.items():\n",
    "    count = count_parameters(model)\n",
    "    percentage = (count / teacher_count) * 100\n",
    "    print(f\"{name} parameters: {count:,} ({percentage:.2f}%)\")\n"
   ]
  },
  {
   "attachments": {},
   "cell_type": "markdown",
   "metadata": {},
   "source": [
    "### 5.2 Loss function"
   ]
  },
  {
   "attachments": {},
   "cell_type": "markdown",
   "metadata": {},
   "source": [
    "#### Softmax\n",
    "\n",
    "$$\n",
    "P_i(\\mathbf{z}_i, T) = \\frac{\\exp(\\mathbf{z}_i / T)}{\\sum_{q=0}^k \\exp(\\mathbf{z}_q / T)}\n",
    "$$\n"
   ]
  },
  {
   "attachments": {},
   "cell_type": "markdown",
   "metadata": {},
   "source": [
    "#### Knowledge Distillation\n",
    "\n",
    "#### CE Loss\n",
    "$$\\mathcal{L}_\\text{CE} = -\\sum^N_{j=0}\\sum_{i=0}^k {y}_i^{(j)}\\log(P_i({v}_i^{(j)}, 1))$$\n",
    "\n",
    "#### KL Loss\n",
    "$$\\mathcal{L}_\\text{KD} = -\\sum^N_{j=0}\\sum_{i=0}^k P_i({z}_i^{(j)}, T) \\log (P_i({v}_i^{(j)}, T))$$\n",
    "\n",
    "#### Cosine Embedding Loss\n",
    "$$\\mathcal{L}_{\\text{cosine}}(x_1, x_2, y) = \\frac{1}{N} \\sum_{i=1}^{N} \\left(1 - y_i \\cdot \\cos(\\theta_i)\\right)$$\n",
    "\n",
    "<!-- $$\\mathcal{L} = \\lambda \\mathcal{L}_\\text{KD} + (1-\\lambda)\\mathcal{L}_\\text{CE}$$\n",
    " -->\n",
    "\n",
    "#### Total Loss\n",
    "$$\\mathcal{L} = \\mathcal{L}_\\text{KD} + \\mathcal{L}_\\text{CE} + \\mathcal{L}_{\\text{cosine}}$$"
   ]
  },
  {
   "cell_type": "code",
   "execution_count": 31,
   "metadata": {},
   "outputs": [],
   "source": [
    "class Distill_kl_loss(nn.Module):\n",
    "    def __init__(self):\n",
    "        super().__init__()\n",
    "        self.kl_div = nn.KLDivLoss(reduction='batchmean')\n",
    "\n",
    "    def forward(self, student_logits, teacher_logits, temperature=1.0):\n",
    "        T = temperature\n",
    "        return self.kl_div(\n",
    "            F.log_softmax(student_logits / T, dim=-1),\n",
    "            F.softmax(teacher_logits / T, dim=-1)\n",
    "        ) * (T * T)\n"
   ]
  },
  {
   "cell_type": "code",
   "execution_count": 32,
   "metadata": {},
   "outputs": [],
   "source": [
    "loss_functions = {\n",
    "    \"classification\": nn.CrossEntropyLoss(),\n",
    "    \"distillation\": Distill_kl_loss(),\n",
    "    \"cosine\": nn.CosineEmbeddingLoss()\n",
    "}\n",
    "\n",
    "criterion_cls = loss_functions[\"classification\"]\n",
    "criterion_div = loss_functions[\"distillation\"]\n",
    "criterion_cos = loss_functions[\"cosine\"]\n"
   ]
  },
  {
   "attachments": {},
   "cell_type": "markdown",
   "metadata": {},
   "source": [
    "## 6. Optimizer"
   ]
  },
  {
   "cell_type": "code",
   "execution_count": 33,
   "metadata": {},
   "outputs": [],
   "source": [
    "def create_optimizer(model, lr=5e-5):\n",
    "    return optim.Adam(model.parameters(), lr=lr)\n",
    "\n",
    "optimizer_odd = create_optimizer(student_model_odd)\n",
    "optimizer_even = create_optimizer(student_model_even)\n",
    "\n",
    "num_epochs = 5\n",
    "num_training_steps = num_epochs * len(train_dataloader)\n",
    "\n"
   ]
  },
  {
   "attachments": {},
   "cell_type": "markdown",
   "metadata": {},
   "source": [
    "## 7. Learning rate scheduler"
   ]
  },
  {
   "cell_type": "code",
   "execution_count": 34,
   "metadata": {},
   "outputs": [],
   "source": [
    "from transformers import get_scheduler\n",
    "def create_scheduler(optimizer, total_steps, warmup_steps=0, schedule_type=\"linear\"):\n",
    "    return get_scheduler(\n",
    "        name=schedule_type,\n",
    "        optimizer=optimizer,\n",
    "        num_warmup_steps=warmup_steps,\n",
    "        num_training_steps=total_steps\n",
    "    )\n",
    "\n",
    "lr_scheduler_odd = create_scheduler(optimizer_odd, num_training_steps)\n",
    "lr_scheduler_even = create_scheduler(optimizer_even, num_training_steps)\n"
   ]
  },
  {
   "attachments": {},
   "cell_type": "markdown",
   "metadata": {},
   "source": [
    "## 8. Metric"
   ]
  },
  {
   "cell_type": "code",
   "execution_count": 35,
   "metadata": {},
   "outputs": [],
   "source": [
    "# !pip3 install evaluate"
   ]
  },
  {
   "cell_type": "code",
   "execution_count": 36,
   "metadata": {},
   "outputs": [],
   "source": [
    "def load_metric(name=\"accuracy\"):\n",
    "    return evaluate.load(name)\n",
    "\n",
    "metric = load_metric()\n"
   ]
  },
  {
   "attachments": {},
   "cell_type": "markdown",
   "metadata": {},
   "source": [
    "## 9. Train"
   ]
  },
  {
   "cell_type": "code",
   "execution_count": 37,
   "metadata": {
    "scrolled": true
   },
   "outputs": [],
   "source": [
    "def compute_losses(student_logits, teacher_logits, labels):\n",
    "    loss_cls = criterion_cls(student_logits, labels)\n",
    "    loss_div = criterion_div(student_logits, teacher_logits)\n",
    "    cos_target = torch.ones(teacher_logits.size(0)).to(device)\n",
    "    loss_cos = criterion_cos(teacher_logits, student_logits, cos_target)\n",
    "    total_loss = (loss_cls + loss_div + loss_cos) / 3\n",
    "    return total_loss, loss_cls, loss_div, loss_cos\n",
    "\n",
    "def evaluate_model(model):\n",
    "    model.eval()\n",
    "    total_loss = 0\n",
    "    metric = evaluate.load(\"accuracy\")  # ✅ FIX: reinitialize per call (no .reset() needed)\n",
    "\n",
    "    for batch in eval_dataloader:\n",
    "        batch = {k: v.to(device) for k, v in batch.items()}\n",
    "        with torch.no_grad():\n",
    "            outputs = model(**batch)\n",
    "        loss = criterion_cls(outputs.logits, batch[\"labels\"])\n",
    "        total_loss += loss.item()\n",
    "        preds = outputs.logits.argmax(dim=-1)\n",
    "        metric.add_batch(predictions=preds, references=batch[\"labels\"])\n",
    "\n",
    "    eval_metric = metric.compute()\n",
    "    avg_loss = total_loss / len(eval_dataloader)\n",
    "    return eval_metric[\"accuracy\"], avg_loss\n",
    "\n",
    "def train_student_model(student_model, optimizer, lr_scheduler, student_type=\"odd\"):\n",
    "    progress_bar = tqdm(range(num_training_steps))\n",
    "    eval_scores = 0\n",
    "\n",
    "    train_losses, train_losses_cls, train_losses_div, train_losses_cos, eval_losses = [], [], [], [], []\n",
    "\n",
    "    for epoch in range(num_epochs):\n",
    "        student_model.train()\n",
    "        teacher_model.eval()\n",
    "\n",
    "        epoch_loss, epoch_cls, epoch_div, epoch_cos = 0, 0, 0, 0\n",
    "\n",
    "        for batch in train_dataloader:\n",
    "            batch = {k: v.to(device) for k, v in batch.items()}\n",
    "\n",
    "            student_output = student_model(**batch)\n",
    "            with torch.no_grad():\n",
    "                teacher_output = teacher_model(**batch)\n",
    "\n",
    "            loss, loss_cls, loss_div, loss_cos = compute_losses(\n",
    "                student_output.logits, teacher_output.logits, batch[\"labels\"]\n",
    "            )\n",
    "\n",
    "            loss.backward()\n",
    "            optimizer.step()\n",
    "            lr_scheduler.step()\n",
    "            optimizer.zero_grad()\n",
    "\n",
    "            # Track losses\n",
    "            epoch_loss += loss.item()\n",
    "            epoch_cls += loss_cls.item()\n",
    "            epoch_div += loss_div.item()\n",
    "            epoch_cos += loss_cos.item()\n",
    "            progress_bar.update(1)\n",
    "\n",
    "        # Store average epoch losses\n",
    "        train_losses.append(epoch_loss / len(train_dataloader))\n",
    "        train_losses_cls.append(epoch_cls / len(train_dataloader))\n",
    "        train_losses_div.append(epoch_div / len(train_dataloader))\n",
    "        train_losses_cos.append(epoch_cos / len(train_dataloader))\n",
    "\n",
    "        print(f\"Epoch {epoch+1} ({student_type} student):\")\n",
    "        print(f\"  Train Loss: {epoch_loss / len(train_dataloader):.4f}\")\n",
    "        print(f\"    - cls: {epoch_cls / len(train_dataloader):.4f}\")\n",
    "        print(f\"    - div: {epoch_div / len(train_dataloader):.4f}\")\n",
    "        print(f\"    - cos: {epoch_cos / len(train_dataloader):.4f}\")\n",
    "\n",
    "        # Evaluation\n",
    "        accuracy, eval_loss = evaluate_model(student_model)\n",
    "        eval_scores += accuracy\n",
    "        eval_losses.append(eval_loss)\n",
    "        print(f\"  Eval Accuracy: {accuracy:.4f}  |  Eval Loss: {eval_loss:.4f}\")\n",
    "\n",
    "    print(f\"\\nAverage Accuracy ({student_type} student): {eval_scores / num_epochs:.4f}\")\n"
   ]
  },
  {
   "cell_type": "code",
   "execution_count": 38,
   "metadata": {},
   "outputs": [
    {
     "name": "stdout",
     "output_type": "stream",
     "text": [
      "\n",
      "=== Training Odd-Layer Student Model ===\n"
     ]
    },
    {
     "name": "stderr",
     "output_type": "stream",
     "text": [
      " 20%|██        | 313/1565 [14:23<42:59,  2.06s/it]  "
     ]
    },
    {
     "name": "stdout",
     "output_type": "stream",
     "text": [
      "Epoch 1 (odd student):\n",
      "  Train Loss: 0.3404\n",
      "    - cls: 0.7221\n",
      "    - div: 0.1392\n",
      "    - cos: 0.1597\n",
      "  Eval Accuracy: 0.8660  |  Eval Loss: 0.5989\n"
     ]
    },
    {
     "name": "stderr",
     "output_type": "stream",
     "text": [
      " 40%|████      | 626/1565 [28:48<31:44,  2.03s/it]  "
     ]
    },
    {
     "name": "stdout",
     "output_type": "stream",
     "text": [
      "Epoch 2 (odd student):\n",
      "  Train Loss: 0.3088\n",
      "    - cls: 0.5925\n",
      "    - div: 0.1738\n",
      "    - cos: 0.1603\n",
      "  Eval Accuracy: 0.9120  |  Eval Loss: 0.5322\n"
     ]
    },
    {
     "name": "stderr",
     "output_type": "stream",
     "text": [
      " 60%|██████    | 939/1565 [43:31<21:20,  2.05s/it]"
     ]
    },
    {
     "name": "stdout",
     "output_type": "stream",
     "text": [
      "Epoch 3 (odd student):\n",
      "  Train Loss: 0.3004\n",
      "    - cls: 0.5573\n",
      "    - div: 0.1833\n",
      "    - cos: 0.1607\n",
      "  Eval Accuracy: 0.9310  |  Eval Loss: 0.5190\n"
     ]
    },
    {
     "name": "stderr",
     "output_type": "stream",
     "text": [
      " 80%|████████  | 1252/1565 [57:56<10:29,  2.01s/it]"
     ]
    },
    {
     "name": "stdout",
     "output_type": "stream",
     "text": [
      "Epoch 4 (odd student):\n",
      "  Train Loss: 0.2934\n",
      "    - cls: 0.5274\n",
      "    - div: 0.1921\n",
      "    - cos: 0.1607\n",
      "  Eval Accuracy: 0.9530  |  Eval Loss: 0.4949\n"
     ]
    },
    {
     "name": "stderr",
     "output_type": "stream",
     "text": [
      "100%|██████████| 1565/1565 [1:12:17<00:00,  2.04s/it]"
     ]
    },
    {
     "name": "stdout",
     "output_type": "stream",
     "text": [
      "Epoch 5 (odd student):\n",
      "  Train Loss: 0.2872\n",
      "    - cls: 0.5023\n",
      "    - div: 0.1988\n",
      "    - cos: 0.1605\n"
     ]
    },
    {
     "name": "stderr",
     "output_type": "stream",
     "text": [
      "100%|██████████| 1565/1565 [1:12:22<00:00,  2.77s/it]\n"
     ]
    },
    {
     "name": "stdout",
     "output_type": "stream",
     "text": [
      "  Eval Accuracy: 0.9560  |  Eval Loss: 0.4854\n",
      "\n",
      "Average Accuracy (odd student): 0.9236\n",
      "\n",
      "=== Training Even-Layer Student Model ===\n"
     ]
    },
    {
     "name": "stderr",
     "output_type": "stream",
     "text": [
      " 20%|██        | 313/1565 [08:33<25:54,  1.24s/it]"
     ]
    },
    {
     "name": "stdout",
     "output_type": "stream",
     "text": [
      "Epoch 1 (even student):\n",
      "  Train Loss: 0.3410\n",
      "    - cls: 0.7303\n",
      "    - div: 0.1349\n",
      "    - cos: 0.1579\n",
      "  Eval Accuracy: 0.8560  |  Eval Loss: 0.6424\n"
     ]
    },
    {
     "name": "stderr",
     "output_type": "stream",
     "text": [
      " 40%|████      | 626/1565 [17:15<19:31,  1.25s/it]  "
     ]
    },
    {
     "name": "stdout",
     "output_type": "stream",
     "text": [
      "Epoch 2 (even student):\n",
      "  Train Loss: 0.3089\n",
      "    - cls: 0.5939\n",
      "    - div: 0.1738\n",
      "    - cos: 0.1590\n",
      "  Eval Accuracy: 0.8970  |  Eval Loss: 0.5818\n"
     ]
    },
    {
     "name": "stderr",
     "output_type": "stream",
     "text": [
      " 60%|██████    | 939/1565 [25:57<13:04,  1.25s/it]"
     ]
    },
    {
     "name": "stdout",
     "output_type": "stream",
     "text": [
      "Epoch 3 (even student):\n",
      "  Train Loss: 0.3008\n",
      "    - cls: 0.5570\n",
      "    - div: 0.1860\n",
      "    - cos: 0.1595\n",
      "  Eval Accuracy: 0.9300  |  Eval Loss: 0.5158\n"
     ]
    },
    {
     "name": "stderr",
     "output_type": "stream",
     "text": [
      " 80%|████████  | 1252/1565 [34:43<06:33,  1.26s/it]"
     ]
    },
    {
     "name": "stdout",
     "output_type": "stream",
     "text": [
      "Epoch 4 (even student):\n",
      "  Train Loss: 0.2928\n",
      "    - cls: 0.5240\n",
      "    - div: 0.1944\n",
      "    - cos: 0.1599\n",
      "  Eval Accuracy: 0.9510  |  Eval Loss: 0.5090\n"
     ]
    },
    {
     "name": "stderr",
     "output_type": "stream",
     "text": [
      "100%|██████████| 1565/1565 [43:27<00:00,  1.25s/it]"
     ]
    },
    {
     "name": "stdout",
     "output_type": "stream",
     "text": [
      "Epoch 5 (even student):\n",
      "  Train Loss: 0.2875\n",
      "    - cls: 0.5030\n",
      "    - div: 0.1996\n",
      "    - cos: 0.1598\n"
     ]
    },
    {
     "name": "stderr",
     "output_type": "stream",
     "text": [
      "100%|██████████| 1565/1565 [43:32<00:00,  1.67s/it]"
     ]
    },
    {
     "name": "stdout",
     "output_type": "stream",
     "text": [
      "  Eval Accuracy: 0.9590  |  Eval Loss: 0.4750\n",
      "\n",
      "Average Accuracy (even student): 0.9186\n"
     ]
    },
    {
     "name": "stderr",
     "output_type": "stream",
     "text": [
      "\n"
     ]
    }
   ],
   "source": [
    "students = {\n",
    "    \"odd\": (student_model_odd, optimizer_odd, lr_scheduler_odd),\n",
    "    \"even\": (student_model_even, optimizer_even, lr_scheduler_even),\n",
    "}\n",
    "\n",
    "for name, (model, optimizer, scheduler) in students.items():\n",
    "    print(f\"\\n=== Training {name.capitalize()}-Layer Student Model ===\")\n",
    "    train_student_model(model, optimizer, scheduler, student_type=name)\n"
   ]
  },
  {
   "cell_type": "code",
   "execution_count": 40,
   "metadata": {},
   "outputs": [
    {
     "name": "stdout",
     "output_type": "stream",
     "text": [
      "Collecting matplotlib\n",
      "  Downloading matplotlib-3.10.1-cp311-cp311-win_amd64.whl.metadata (11 kB)\n",
      "Collecting contourpy>=1.0.1 (from matplotlib)\n",
      "  Downloading contourpy-1.3.1-cp311-cp311-win_amd64.whl.metadata (5.4 kB)\n",
      "Collecting cycler>=0.10 (from matplotlib)\n",
      "  Downloading cycler-0.12.1-py3-none-any.whl.metadata (3.8 kB)\n",
      "Collecting fonttools>=4.22.0 (from matplotlib)\n",
      "  Downloading fonttools-4.56.0-cp311-cp311-win_amd64.whl.metadata (103 kB)\n",
      "Collecting kiwisolver>=1.3.1 (from matplotlib)\n",
      "  Downloading kiwisolver-1.4.8-cp311-cp311-win_amd64.whl.metadata (6.3 kB)\n",
      "Requirement already satisfied: numpy>=1.23 in c:\\users\\jue\\desktop\\a7\\.venv\\lib\\site-packages (from matplotlib) (2.1.2)\n",
      "Requirement already satisfied: packaging>=20.0 in c:\\users\\jue\\desktop\\a7\\.venv\\lib\\site-packages (from matplotlib) (24.2)\n",
      "Requirement already satisfied: pillow>=8 in c:\\users\\jue\\desktop\\a7\\.venv\\lib\\site-packages (from matplotlib) (11.0.0)\n",
      "Collecting pyparsing>=2.3.1 (from matplotlib)\n",
      "  Downloading pyparsing-3.2.1-py3-none-any.whl.metadata (5.0 kB)\n",
      "Requirement already satisfied: python-dateutil>=2.7 in c:\\users\\jue\\desktop\\a7\\.venv\\lib\\site-packages (from matplotlib) (2.9.0.post0)\n",
      "Requirement already satisfied: six>=1.5 in c:\\users\\jue\\desktop\\a7\\.venv\\lib\\site-packages (from python-dateutil>=2.7->matplotlib) (1.17.0)\n",
      "Downloading matplotlib-3.10.1-cp311-cp311-win_amd64.whl (8.1 MB)\n",
      "   ---------------------------------------- 0.0/8.1 MB ? eta -:--:--\n",
      "   -- ------------------------------------- 0.5/8.1 MB 2.8 MB/s eta 0:00:03\n",
      "   --- ------------------------------------ 0.8/8.1 MB 2.4 MB/s eta 0:00:04\n",
      "   ------ --------------------------------- 1.3/8.1 MB 2.0 MB/s eta 0:00:04\n",
      "   ------ --------------------------------- 1.3/8.1 MB 2.0 MB/s eta 0:00:04\n",
      "   ------- -------------------------------- 1.6/8.1 MB 1.6 MB/s eta 0:00:05\n",
      "   ------- -------------------------------- 1.6/8.1 MB 1.6 MB/s eta 0:00:05\n",
      "   --------- ------------------------------ 1.8/8.1 MB 1.3 MB/s eta 0:00:05\n",
      "   --------- ------------------------------ 1.8/8.1 MB 1.3 MB/s eta 0:00:05\n",
      "   ---------- ----------------------------- 2.1/8.1 MB 1.1 MB/s eta 0:00:06\n",
      "   ---------- ----------------------------- 2.1/8.1 MB 1.1 MB/s eta 0:00:06\n",
      "   ----------- ---------------------------- 2.4/8.1 MB 1.0 MB/s eta 0:00:06\n",
      "   ----------- ---------------------------- 2.4/8.1 MB 1.0 MB/s eta 0:00:06\n",
      "   ------------- -------------------------- 2.6/8.1 MB 961.8 kB/s eta 0:00:06\n",
      "   ------------- -------------------------- 2.6/8.1 MB 961.8 kB/s eta 0:00:06\n",
      "   ------------- -------------------------- 2.6/8.1 MB 961.8 kB/s eta 0:00:06\n",
      "   -------------- ------------------------- 2.9/8.1 MB 843.2 kB/s eta 0:00:07\n",
      "   -------------- ------------------------- 2.9/8.1 MB 843.2 kB/s eta 0:00:07\n",
      "   --------------- ------------------------ 3.1/8.1 MB 835.1 kB/s eta 0:00:06\n",
      "   ---------------- ----------------------- 3.4/8.1 MB 842.5 kB/s eta 0:00:06\n",
      "   ------------------ --------------------- 3.7/8.1 MB 852.0 kB/s eta 0:00:06\n",
      "   ------------------ --------------------- 3.7/8.1 MB 852.0 kB/s eta 0:00:06\n",
      "   ------------------- -------------------- 3.9/8.1 MB 841.9 kB/s eta 0:00:05\n",
      "   ------------------- -------------------- 3.9/8.1 MB 841.9 kB/s eta 0:00:05\n",
      "   -------------------- ------------------- 4.2/8.1 MB 822.5 kB/s eta 0:00:05\n",
      "   -------------------- ------------------- 4.2/8.1 MB 822.5 kB/s eta 0:00:05\n",
      "   ---------------------- ----------------- 4.5/8.1 MB 813.5 kB/s eta 0:00:05\n",
      "   ---------------------- ----------------- 4.5/8.1 MB 813.5 kB/s eta 0:00:05\n",
      "   ----------------------- ---------------- 4.7/8.1 MB 796.8 kB/s eta 0:00:05\n",
      "   ----------------------- ---------------- 4.7/8.1 MB 796.8 kB/s eta 0:00:05\n",
      "   ------------------------ --------------- 5.0/8.1 MB 780.4 kB/s eta 0:00:04\n",
      "   ------------------------ --------------- 5.0/8.1 MB 780.4 kB/s eta 0:00:04\n",
      "   -------------------------- ------------- 5.2/8.1 MB 770.1 kB/s eta 0:00:04\n",
      "   -------------------------- ------------- 5.2/8.1 MB 770.1 kB/s eta 0:00:04\n",
      "   -------------------------- ------------- 5.2/8.1 MB 770.1 kB/s eta 0:00:04\n",
      "   --------------------------- ------------ 5.5/8.1 MB 737.5 kB/s eta 0:00:04\n",
      "   --------------------------- ------------ 5.5/8.1 MB 737.5 kB/s eta 0:00:04\n",
      "   --------------------------- ------------ 5.5/8.1 MB 737.5 kB/s eta 0:00:04\n",
      "   --------------------------- ------------ 5.5/8.1 MB 737.5 kB/s eta 0:00:04\n",
      "   ---------------------------- ----------- 5.8/8.1 MB 697.7 kB/s eta 0:00:04\n",
      "   ---------------------------- ----------- 5.8/8.1 MB 697.7 kB/s eta 0:00:04\n",
      "   ----------------------------- ---------- 6.0/8.1 MB 692.5 kB/s eta 0:00:03\n",
      "   ------------------------------- -------- 6.3/8.1 MB 696.5 kB/s eta 0:00:03\n",
      "   ------------------------------- -------- 6.3/8.1 MB 696.5 kB/s eta 0:00:03\n",
      "   -------------------------------- ------- 6.6/8.1 MB 693.0 kB/s eta 0:00:03\n",
      "   -------------------------------- ------- 6.6/8.1 MB 693.0 kB/s eta 0:00:03\n",
      "   -------------------------------- ------- 6.6/8.1 MB 693.0 kB/s eta 0:00:03\n",
      "   --------------------------------- ------ 6.8/8.1 MB 688.8 kB/s eta 0:00:02\n",
      "   --------------------------------- ------ 6.8/8.1 MB 688.8 kB/s eta 0:00:02\n",
      "   ----------------------------------- ---- 7.1/8.1 MB 676.3 kB/s eta 0:00:02\n",
      "   ----------------------------------- ---- 7.1/8.1 MB 676.3 kB/s eta 0:00:02\n",
      "   ----------------------------------- ---- 7.1/8.1 MB 676.3 kB/s eta 0:00:02\n",
      "   ------------------------------------ --- 7.3/8.1 MB 666.2 kB/s eta 0:00:02\n",
      "   ------------------------------------ --- 7.3/8.1 MB 666.2 kB/s eta 0:00:02\n",
      "   ------------------------------------ --- 7.3/8.1 MB 666.2 kB/s eta 0:00:02\n",
      "   ------------------------------------- -- 7.6/8.1 MB 656.1 kB/s eta 0:00:01\n",
      "   ------------------------------------- -- 7.6/8.1 MB 656.1 kB/s eta 0:00:01\n",
      "   ---------------------------------------  7.9/8.1 MB 647.9 kB/s eta 0:00:01\n",
      "   ---------------------------------------  7.9/8.1 MB 647.9 kB/s eta 0:00:01\n",
      "   ---------------------------------------- 8.1/8.1 MB 641.6 kB/s eta 0:00:00\n",
      "Downloading contourpy-1.3.1-cp311-cp311-win_amd64.whl (219 kB)\n",
      "Downloading cycler-0.12.1-py3-none-any.whl (8.3 kB)\n",
      "Downloading fonttools-4.56.0-cp311-cp311-win_amd64.whl (2.2 MB)\n",
      "   ---------------------------------------- 0.0/2.2 MB ? eta -:--:--\n",
      "   ---------------------------------------- 0.0/2.2 MB ? eta -:--:--\n",
      "   ---- ----------------------------------- 0.3/2.2 MB ? eta -:--:--\n",
      "   --------- ------------------------------ 0.5/2.2 MB 1.0 MB/s eta 0:00:02\n",
      "   --------- ------------------------------ 0.5/2.2 MB 1.0 MB/s eta 0:00:02\n",
      "   -------------- ------------------------- 0.8/2.2 MB 931.2 kB/s eta 0:00:02\n",
      "   -------------- ------------------------- 0.8/2.2 MB 931.2 kB/s eta 0:00:02\n",
      "   ------------------- -------------------- 1.0/2.2 MB 762.0 kB/s eta 0:00:02\n",
      "   ------------------- -------------------- 1.0/2.2 MB 762.0 kB/s eta 0:00:02\n",
      "   ----------------------- ---------------- 1.3/2.2 MB 713.8 kB/s eta 0:00:02\n",
      "   ----------------------- ---------------- 1.3/2.2 MB 713.8 kB/s eta 0:00:02\n",
      "   ---------------------------- ----------- 1.6/2.2 MB 710.8 kB/s eta 0:00:01\n",
      "   ---------------------------- ----------- 1.6/2.2 MB 710.8 kB/s eta 0:00:01\n",
      "   --------------------------------- ------ 1.8/2.2 MB 689.2 kB/s eta 0:00:01\n",
      "   --------------------------------- ------ 1.8/2.2 MB 689.2 kB/s eta 0:00:01\n",
      "   --------------------------------- ------ 1.8/2.2 MB 689.2 kB/s eta 0:00:01\n",
      "   -------------------------------------- - 2.1/2.2 MB 645.2 kB/s eta 0:00:01\n",
      "   ---------------------------------------- 2.2/2.2 MB 626.6 kB/s eta 0:00:00\n",
      "Downloading kiwisolver-1.4.8-cp311-cp311-win_amd64.whl (71 kB)\n",
      "Downloading pyparsing-3.2.1-py3-none-any.whl (107 kB)\n",
      "Installing collected packages: pyparsing, kiwisolver, fonttools, cycler, contourpy, matplotlib\n",
      "Successfully installed contourpy-1.3.1 cycler-0.12.1 fonttools-4.56.0 kiwisolver-1.4.8 matplotlib-3.10.1 pyparsing-3.2.1\n",
      "Note: you may need to restart the kernel to use updated packages.\n"
     ]
    }
   ],
   "source": [
    "pip install matplotlib"
   ]
  },
  {
   "cell_type": "code",
   "execution_count": 41,
   "metadata": {},
   "outputs": [
    {
     "data": {
      "image/png": "[encoded data removed]",
      "text/plain": [
       "<Figure size 1000x500 with 1 Axes>"
      ]
     },
     "metadata": {},
     "output_type": "display_data"
    },
    {
     "data": {
      "image/png": "[encoded data removed]",
      "text/plain": [
       "<Figure size 1000x500 with 1 Axes>"
      ]
     },
     "metadata": {},
     "output_type": "display_data"
    }
   ],
   "source": [
    "import matplotlib.pyplot as plt\n",
    "\n",
    "# Epoch range (1 to 4)\n",
    "epochs = list(range(1, 6))\n",
    "\n",
    "# Updated values\n",
    "odd_train_loss = [0.3404, 0.3088, 0.3004, 0.2934, 0.2872]\n",
    "even_train_loss = [0.3410, 0.3089, 0.3008, 0.2928, 0.2875]\n",
    "\n",
    "odd_test_acc = [0.8660, 0.9120, 0.9310, 0.9530, 0.9560]\n",
    "even_test_acc = [0.8560, 0.8970, 0.9300, 0.9510, 0.9590]\n",
    "\n",
    "# Plot Training Loss\n",
    "plt.figure(figsize=(10, 5))\n",
    "plt.plot(epochs, odd_train_loss, label=\"Odd-Layer Train Loss\", marker=\"o\")\n",
    "plt.plot(epochs, even_train_loss, label=\"Even-Layer Train Loss\", marker=\"s\")\n",
    "plt.xlabel(\"Epochs\")\n",
    "plt.ylabel(\"Loss\")\n",
    "plt.title(\"Training Loss Comparison (Odd vs. Even)\")\n",
    "plt.legend()\n",
    "plt.grid(True)\n",
    "plt.tight_layout()\n",
    "plt.show()\n",
    "\n",
    "# Plot Test Accuracy\n",
    "plt.figure(figsize=(10, 5))\n",
    "plt.plot(epochs, odd_test_acc, label=\"Odd-Layer Test Accuracy\", marker=\"o\")\n",
    "plt.plot(epochs, even_test_acc, label=\"Even-Layer Test Accuracy\", marker=\"s\")\n",
    "plt.xlabel(\"Epochs\")\n",
    "plt.ylabel(\"Accuracy\")\n",
    "plt.title(\"Test Accuracy Comparison (Odd vs. Even)\")\n",
    "plt.legend()\n",
    "plt.grid(True)\n",
    "plt.tight_layout()\n",
    "plt.show()"
   ]
  },
  {
   "cell_type": "markdown",
   "metadata": {},
   "source": [
    "# LORA with Student Model"
   ]
  },
  {
   "cell_type": "code",
   "execution_count": 42,
   "metadata": {},
   "outputs": [
    {
     "name": "stdout",
     "output_type": "stream",
     "text": [
      "Collecting peft\n",
      "  Downloading peft-0.15.0-py3-none-any.whl.metadata (13 kB)\n",
      "Requirement already satisfied: numpy>=1.17 in c:\\users\\jue\\desktop\\a7\\.venv\\lib\\site-packages (from peft) (2.1.2)\n",
      "Requirement already satisfied: packaging>=20.0 in c:\\users\\jue\\desktop\\a7\\.venv\\lib\\site-packages (from peft) (24.2)\n",
      "Requirement already satisfied: psutil in c:\\users\\jue\\desktop\\a7\\.venv\\lib\\site-packages (from peft) (7.0.0)\n",
      "Requirement already satisfied: pyyaml in c:\\users\\jue\\desktop\\a7\\.venv\\lib\\site-packages (from peft) (6.0.2)\n",
      "Requirement already satisfied: torch>=1.13.0 in c:\\users\\jue\\desktop\\a7\\.venv\\lib\\site-packages (from peft) (2.5.1+cu121)\n",
      "Requirement already satisfied: transformers in c:\\users\\jue\\desktop\\a7\\.venv\\lib\\site-packages (from peft) (4.50.0)\n",
      "Requirement already satisfied: tqdm in c:\\users\\jue\\desktop\\a7\\.venv\\lib\\site-packages (from peft) (4.67.1)\n",
      "Collecting accelerate>=0.21.0 (from peft)\n",
      "  Using cached accelerate-1.5.2-py3-none-any.whl.metadata (19 kB)\n",
      "Requirement already satisfied: safetensors in c:\\users\\jue\\desktop\\a7\\.venv\\lib\\site-packages (from peft) (0.5.3)\n",
      "Requirement already satisfied: huggingface_hub>=0.25.0 in c:\\users\\jue\\desktop\\a7\\.venv\\lib\\site-packages (from peft) (0.29.3)\n",
      "Requirement already satisfied: filelock in c:\\users\\jue\\desktop\\a7\\.venv\\lib\\site-packages (from huggingface_hub>=0.25.0->peft) (3.13.1)\n",
      "Requirement already satisfied: fsspec>=2023.5.0 in c:\\users\\jue\\desktop\\a7\\.venv\\lib\\site-packages (from huggingface_hub>=0.25.0->peft) (2024.6.1)\n",
      "Requirement already satisfied: requests in c:\\users\\jue\\desktop\\a7\\.venv\\lib\\site-packages (from huggingface_hub>=0.25.0->peft) (2.32.3)\n",
      "Requirement already satisfied: typing-extensions>=3.7.4.3 in c:\\users\\jue\\desktop\\a7\\.venv\\lib\\site-packages (from huggingface_hub>=0.25.0->peft) (4.12.2)\n",
      "Requirement already satisfied: networkx in c:\\users\\jue\\desktop\\a7\\.venv\\lib\\site-packages (from torch>=1.13.0->peft) (3.3)\n",
      "Requirement already satisfied: jinja2 in c:\\users\\jue\\desktop\\a7\\.venv\\lib\\site-packages (from torch>=1.13.0->peft) (3.1.4)\n",
      "Requirement already satisfied: sympy==1.13.1 in c:\\users\\jue\\desktop\\a7\\.venv\\lib\\site-packages (from torch>=1.13.0->peft) (1.13.1)\n",
      "Requirement already satisfied: mpmath<1.4,>=1.1.0 in c:\\users\\jue\\desktop\\a7\\.venv\\lib\\site-packages (from sympy==1.13.1->torch>=1.13.0->peft) (1.3.0)\n",
      "Requirement already satisfied: colorama in c:\\users\\jue\\desktop\\a7\\.venv\\lib\\site-packages (from tqdm->peft) (0.4.6)\n",
      "Requirement already satisfied: regex!=2019.12.17 in c:\\users\\jue\\desktop\\a7\\.venv\\lib\\site-packages (from transformers->peft) (2024.11.6)\n",
      "Requirement already satisfied: tokenizers<0.22,>=0.21 in c:\\users\\jue\\desktop\\a7\\.venv\\lib\\site-packages (from transformers->peft) (0.21.1)\n",
      "Requirement already satisfied: MarkupSafe>=2.0 in c:\\users\\jue\\desktop\\a7\\.venv\\lib\\site-packages (from jinja2->torch>=1.13.0->peft) (2.1.5)\n",
      "Requirement already satisfied: charset-normalizer<4,>=2 in c:\\users\\jue\\desktop\\a7\\.venv\\lib\\site-packages (from requests->huggingface_hub>=0.25.0->peft) (3.4.1)\n",
      "Requirement already satisfied: idna<4,>=2.5 in c:\\users\\jue\\desktop\\a7\\.venv\\lib\\site-packages (from requests->huggingface_hub>=0.25.0->peft) (3.10)\n",
      "Requirement already satisfied: urllib3<3,>=1.21.1 in c:\\users\\jue\\desktop\\a7\\.venv\\lib\\site-packages (from requests->huggingface_hub>=0.25.0->peft) (2.3.0)\n",
      "Requirement already satisfied: certifi>=2017.4.17 in c:\\users\\jue\\desktop\\a7\\.venv\\lib\\site-packages (from requests->huggingface_hub>=0.25.0->peft) (2025.1.31)\n",
      "Downloading peft-0.15.0-py3-none-any.whl (410 kB)\n",
      "Using cached accelerate-1.5.2-py3-none-any.whl (345 kB)\n",
      "Installing collected packages: accelerate, peft\n",
      "Successfully installed accelerate-1.5.2 peft-0.15.0\n",
      "Note: you may need to restart the kernel to use updated packages.\n"
     ]
    }
   ],
   "source": [
    "pip install peft"
   ]
  },
  {
   "cell_type": "code",
   "execution_count": 43,
   "metadata": {},
   "outputs": [
    {
     "name": "stderr",
     "output_type": "stream",
     "text": [
      "Some weights of BertForSequenceClassification were not initialized from the model checkpoint at bert-base-uncased and are newly initialized: ['classifier.bias', 'classifier.weight']\n",
      "You should probably TRAIN this model on a down-stream task to be able to use it for predictions and inference.\n"
     ]
    },
    {
     "data": {
      "text/plain": [
       "BertForSequenceClassification(\n",
       "  (bert): BertModel(\n",
       "    (embeddings): BertEmbeddings(\n",
       "      (word_embeddings): Embedding(30522, 768, padding_idx=0)\n",
       "      (position_embeddings): Embedding(512, 768)\n",
       "      (token_type_embeddings): Embedding(2, 768)\n",
       "      (LayerNorm): LayerNorm((768,), eps=1e-12, elementwise_affine=True)\n",
       "      (dropout): Dropout(p=0.1, inplace=False)\n",
       "    )\n",
       "    (encoder): BertEncoder(\n",
       "      (layer): ModuleList(\n",
       "        (0-11): 12 x BertLayer(\n",
       "          (attention): BertAttention(\n",
       "            (self): BertSdpaSelfAttention(\n",
       "              (query): Linear(in_features=768, out_features=768, bias=True)\n",
       "              (key): Linear(in_features=768, out_features=768, bias=True)\n",
       "              (value): Linear(in_features=768, out_features=768, bias=True)\n",
       "              (dropout): Dropout(p=0.1, inplace=False)\n",
       "            )\n",
       "            (output): BertSelfOutput(\n",
       "              (dense): Linear(in_features=768, out_features=768, bias=True)\n",
       "              (LayerNorm): LayerNorm((768,), eps=1e-12, elementwise_affine=True)\n",
       "              (dropout): Dropout(p=0.1, inplace=False)\n",
       "            )\n",
       "          )\n",
       "          (intermediate): BertIntermediate(\n",
       "            (dense): Linear(in_features=768, out_features=3072, bias=True)\n",
       "            (intermediate_act_fn): GELUActivation()\n",
       "          )\n",
       "          (output): BertOutput(\n",
       "            (dense): Linear(in_features=3072, out_features=768, bias=True)\n",
       "            (LayerNorm): LayerNorm((768,), eps=1e-12, elementwise_affine=True)\n",
       "            (dropout): Dropout(p=0.1, inplace=False)\n",
       "          )\n",
       "        )\n",
       "      )\n",
       "    )\n",
       "    (pooler): BertPooler(\n",
       "      (dense): Linear(in_features=768, out_features=768, bias=True)\n",
       "      (activation): Tanh()\n",
       "    )\n",
       "  )\n",
       "  (dropout): Dropout(p=0.1, inplace=False)\n",
       "  (classifier): Linear(in_features=768, out_features=3, bias=True)\n",
       ")"
      ]
     },
     "execution_count": 43,
     "metadata": {},
     "output_type": "execute_result"
    }
   ],
   "source": [
    "from peft import get_peft_model, LoraConfig, TaskType\n",
    "from transformers import AutoModelForSequenceClassification, AutoTokenizer\n",
    "\n",
    "model_name = \"bert-base-uncased\"\n",
    "num_classes = 3\n",
    "\n",
    "student_model_lora = AutoModelForSequenceClassification.from_pretrained(\n",
    "    model_name,\n",
    "    num_labels=num_classes\n",
    ")\n",
    "student_model_lora.to(device)"
   ]
  },
  {
   "cell_type": "code",
   "execution_count": 44,
   "metadata": {},
   "outputs": [],
   "source": [
    "def get_lora_config():\n",
    "    return LoraConfig(\n",
    "        task_type=TaskType.SEQ_CLS,\n",
    "        r=8,\n",
    "        lora_alpha=16,\n",
    "        lora_dropout=0.1,\n",
    "        target_modules=[\"query\", \"value\"]\n",
    "    )\n",
    "\n",
    "lora_config = get_lora_config()"
   ]
  },
  {
   "cell_type": "code",
   "execution_count": 45,
   "metadata": {},
   "outputs": [
    {
     "name": "stdout",
     "output_type": "stream",
     "text": [
      "trainable params: 297,219 || all params: 109,781,766 || trainable%: 0.2707\n"
     ]
    }
   ],
   "source": [
    "def apply_lora(model, config):\n",
    "    model = get_peft_model(model, config)\n",
    "    model.print_trainable_parameters()\n",
    "    return model\n",
    "\n",
    "student_model_lora = apply_lora(student_model_lora, lora_config)\n"
   ]
  },
  {
   "cell_type": "code",
   "execution_count": 46,
   "metadata": {},
   "outputs": [],
   "source": [
    "def get_loss_fn():\n",
    "    return nn.CrossEntropyLoss()\n",
    "\n",
    "criterion = get_loss_fn()"
   ]
  },
  {
   "cell_type": "markdown",
   "metadata": {},
   "source": [
    "## Optimizer,Learning rate scheduler & Metric"
   ]
  },
  {
   "cell_type": "code",
   "execution_count": 47,
   "metadata": {},
   "outputs": [],
   "source": [
    "def create_optimizer(model, lr=5e-5):\n",
    "    return optim.Adam(model.parameters(), lr=lr)\n",
    "\n",
    "def create_scheduler(optimizer, epochs, dataloader, warmup=0):\n",
    "    total_steps = epochs * len(dataloader)\n",
    "    return get_scheduler(\"linear\", optimizer=optimizer, num_warmup_steps=warmup, num_training_steps=total_steps)\n",
    "\n",
    "optimizer_lora = create_optimizer(student_model_lora)\n",
    "lr_scheduler_lora = create_scheduler(optimizer_lora, num_epochs, train_dataloader)\n",
    "\n",
    "metric = evaluate.load(\"accuracy\")"
   ]
  },
  {
   "cell_type": "markdown",
   "metadata": {},
   "source": [
    "## Train"
   ]
  },
  {
   "cell_type": "code",
   "execution_count": 48,
   "metadata": {},
   "outputs": [
    {
     "name": "stderr",
     "output_type": "stream",
     "text": [
      " 20%|██        | 313/1565 [09:40<29:10,  1.40s/it]"
     ]
    },
    {
     "name": "stdout",
     "output_type": "stream",
     "text": [
      "\n",
      "Epoch 1/5 | Train Loss: 0.6851\n",
      "Epoch 1/5 | Eval Loss: 0.5914 | Eval Accuracy: 0.7800\n"
     ]
    },
    {
     "name": "stderr",
     "output_type": "stream",
     "text": [
      " 40%|████      | 626/1565 [19:25<22:10,  1.42s/it]  "
     ]
    },
    {
     "name": "stdout",
     "output_type": "stream",
     "text": [
      "\n",
      "Epoch 2/5 | Train Loss: 0.4895\n",
      "Epoch 2/5 | Eval Loss: 0.3673 | Eval Accuracy: 0.8800\n"
     ]
    },
    {
     "name": "stderr",
     "output_type": "stream",
     "text": [
      " 60%|██████    | 939/1565 [29:16<14:38,  1.40s/it]  "
     ]
    },
    {
     "name": "stdout",
     "output_type": "stream",
     "text": [
      "\n",
      "Epoch 3/5 | Train Loss: 0.3853\n",
      "Epoch 3/5 | Eval Loss: 0.3398 | Eval Accuracy: 0.8890\n"
     ]
    },
    {
     "name": "stderr",
     "output_type": "stream",
     "text": [
      " 80%|████████  | 1252/1565 [39:07<08:10,  1.57s/it] "
     ]
    },
    {
     "name": "stdout",
     "output_type": "stream",
     "text": [
      "\n",
      "Epoch 4/5 | Train Loss: 0.3668\n",
      "Epoch 4/5 | Eval Loss: 0.3291 | Eval Accuracy: 0.8920\n"
     ]
    },
    {
     "name": "stderr",
     "output_type": "stream",
     "text": [
      "100%|██████████| 1565/1565 [49:01<00:00,  1.38s/it]"
     ]
    },
    {
     "name": "stdout",
     "output_type": "stream",
     "text": [
      "\n",
      "Epoch 5/5 | Train Loss: 0.3561\n",
      "Epoch 5/5 | Eval Loss: 0.3247 | Eval Accuracy: 0.8980\n",
      "\n",
      "Best Eval Accuracy: 0.8980 — Model saved to 'lora_student_best.pt'\n"
     ]
    }
   ],
   "source": [
    "from tqdm.auto import tqdm\n",
    "\n",
    "# Training loop\n",
    "progress_bar = tqdm(range(num_training_steps))\n",
    "best_accuracy = 0\n",
    "\n",
    "for epoch in range(num_epochs):\n",
    "    student_model_lora.train()\n",
    "    total_loss = 0\n",
    "\n",
    "    for batch in train_dataloader:\n",
    "        batch = {k: v.to(device) for k, v in batch.items()}\n",
    "        \n",
    "        # Forward pass\n",
    "        outputs = student_model_lora(**batch)\n",
    "        loss = criterion(outputs.logits, batch[\"labels\"])\n",
    "        \n",
    "        # Backward pass\n",
    "        optimizer_lora.zero_grad()\n",
    "        loss.backward()\n",
    "        optimizer_lora.step()\n",
    "        lr_scheduler_lora.step()\n",
    "        \n",
    "        total_loss += loss.item()\n",
    "        progress_bar.update(1)\n",
    "\n",
    "    avg_train_loss = total_loss / len(train_dataloader)\n",
    "    print(f\"\\nEpoch {epoch+1}/{num_epochs} | Train Loss: {avg_train_loss:.4f}\")\n",
    "\n",
    "    # Evaluation\n",
    "    student_model_lora.eval()\n",
    "    eval_loss = 0\n",
    "    metric = evaluate.load(\"accuracy\")  # Fresh instance per epoch\n",
    "\n",
    "    for batch in eval_dataloader:\n",
    "        batch = {k: v.to(device) for k, v in batch.items()}\n",
    "        with torch.no_grad():\n",
    "            outputs = student_model_lora(**batch)\n",
    "        loss = criterion(outputs.logits, batch[\"labels\"])\n",
    "        predictions = outputs.logits.argmax(dim=-1)\n",
    "        \n",
    "        eval_loss += loss.item()\n",
    "        metric.add_batch(predictions=predictions, references=batch[\"labels\"])\n",
    "\n",
    "    avg_eval_loss = eval_loss / len(eval_dataloader)\n",
    "    eval_accuracy = metric.compute()[\"accuracy\"]\n",
    "    print(f\"Epoch {epoch+1}/{num_epochs} | Eval Loss: {avg_eval_loss:.4f} | Eval Accuracy: {eval_accuracy:.4f}\")\n",
    "\n",
    "    # Save best model\n",
    "    if eval_accuracy > best_accuracy:\n",
    "        best_accuracy = eval_accuracy\n",
    "        best_model_state = student_model_lora.state_dict()\n",
    "\n",
    "# Optional: save best model\n",
    "torch.save(best_model_state, \"lora_student_best.pt\")\n",
    "print(f\"\\nBest Eval Accuracy: {best_accuracy:.4f} — Model saved to 'lora_student_best.pt'\")"
   ]
  },
  {
   "cell_type": "code",
   "execution_count": 43,
   "metadata": {},
   "outputs": [
    {
     "data": {
      "image/png": "[encoded data removed]",
      "text/plain": [
       "<Figure size 1000x400 with 1 Axes>"
      ]
     },
     "metadata": {},
     "output_type": "display_data"
    },
    {
     "data": {
      "image/png": "[encoded data removed]",
      "text/plain": [
       "<Figure size 1000x400 with 1 Axes>"
      ]
     },
     "metadata": {},
     "output_type": "display_data"
    }
   ],
   "source": [
    "import matplotlib.pyplot as plt\n",
    "\n",
    "epochs = [1, 2, 3, 4, 5]\n",
    "\n",
    "# Updated LoRA data\n",
    "lora_train_loss = [0.6851, 0.4895, 0.3853, 0.3668, 0.3561]\n",
    "lora_test_acc   = [0.7800, 0.8800, 0.8890, 0.8920, 0.8980]\n",
    "\n",
    "# Training Loss Plot\n",
    "plt.figure(figsize=(10, 4))\n",
    "plt.plot(epochs, [0.3404, 0.3088, 0.3004, 0.2934, 0.2872], label=\"Odd-Layer Train Loss\", marker=\"o\")\n",
    "plt.plot(epochs, [0.3410, 0.3089, 0.3008, 0.2928, 0.2875], label=\"Even-Layer Train Loss\", marker=\"s\")\n",
    "plt.plot(epochs, lora_train_loss, label=\"LoRA Train Loss\", marker=\"^\")\n",
    "plt.xlabel(\"Epochs\")\n",
    "plt.ylabel(\"Loss\")\n",
    "plt.title(\"Training Loss Comparison (Odd vs. Even vs. LoRA)\")\n",
    "plt.grid(True)\n",
    "plt.legend()\n",
    "plt.tight_layout()\n",
    "plt.show()\n",
    "\n",
    "# Test Accuracy Plot\n",
    "plt.figure(figsize=(10, 4))\n",
    "plt.plot(epochs, [0.8660, 0.9120, 0.9310, 0.9530, 0.9560], label=\"Odd-Layer Test Accuracy\", marker=\"o\")\n",
    "plt.plot(epochs, [0.8560, 0.8970, 0.9300, 0.9510, 0.9590], label=\"Even-Layer Test Accuracy\", marker=\"s\")\n",
    "plt.plot(epochs, lora_test_acc, label=\"LoRA Test Accuracy\", marker=\"^\")\n",
    "plt.xlabel(\"Epochs\")\n",
    "plt.ylabel(\"Accuracy\")\n",
    "plt.title(\"Test Accuracy Comparison (Odd vs. Even vs. LoRA)\")\n",
    "plt.grid(True)\n",
    "plt.legend()\n",
    "plt.tight_layout()\n",
    "plt.show()"
   ]
  },
  {
   "cell_type": "markdown",
   "metadata": {},
   "source": [
    "# Evaluation of three models"
   ]
  },
  {
   "cell_type": "code",
   "execution_count": 51,
   "metadata": {},
   "outputs": [],
   "source": [
    "def evaluate_model(model, model_name):\n",
    "    model.eval()\n",
    "    metric = evaluate.load(\"accuracy\")\n",
    "\n",
    "    with torch.no_grad():\n",
    "        for batch in test_dataloader:\n",
    "            batch = {k: v.to(device) for k, v in batch.items()}\n",
    "            output = model(**batch)\n",
    "            pred = output.logits.argmax(dim=-1)\n",
    "            metric.add_batch(predictions=pred, references=batch[\"labels\"])\n",
    "\n",
    "    result = metric.compute()\n",
    "    print(f\"{model_name} Accuracy: {result['accuracy']:.4f}\")\n",
    "    return result\n",
    "\n"
   ]
  },
  {
   "cell_type": "code",
   "execution_count": 52,
   "metadata": {},
   "outputs": [
    {
     "name": "stdout",
     "output_type": "stream",
     "text": [
      "Model saved to best_model_odd_student\n"
     ]
    }
   ],
   "source": [
    "class ModelSaver:\n",
    "    def __init__(self, model, tokenizer):\n",
    "        self.model = model\n",
    "        self.tokenizer = tokenizer\n",
    "\n",
    "    def save(self, path):\n",
    "        self.model.save_pretrained(path)\n",
    "        self.tokenizer.save_pretrained(path)\n",
    "        print(f\"Model saved to {path}\")\n",
    "\n",
    "saver = ModelSaver(student_model_odd, tokenizer)\n",
    "saver.save(\"best_model_odd_student\")\n"
   ]
  },
  {
   "attachments": {},
   "cell_type": "markdown",
   "metadata": {},
   "source": [
    "### Appendix (Teacher Model)"
   ]
  },
  {
   "cell_type": "code",
   "execution_count": null,
   "metadata": {},
   "outputs": [],
   "source": [
    "import torch\n",
    "from tqdm.auto import tqdm\n",
    "import torch.optim as optim\n",
    "import torch.nn as nn\n",
    "\n",
    "lr = 5e-5\n",
    "#training hyperparameters\n",
    "optimizer = optim.Adam(params=teacher_model.parameters(), lr=lr)\n",
    "\n",
    "progress_bar = tqdm(range(num_training_steps))\n",
    "eval_metrics = 0\n",
    "\n",
    "for epoch in range(num_epochs):\n",
    "    teacher_model.train()\n",
    "    train_loss = 0\n",
    "    for step, batch in enumerate(train_dataloader):\n",
    "        batch = {k: v.to(device) for k, v in batch.items()}\n",
    "        output_teacher = teacher_model(**batch)\n",
    "        # cls loss \n",
    "        loss = output_teacher.loss\n",
    "        train_loss += loss.item()\n",
    "        loss.backward()\n",
    "        # accelerator.backward(loss)\n",
    "        # Step with optimizer\n",
    "        optimizer.step()\n",
    "        lr_scheduler.step()\n",
    "        optimizer.zero_grad()\n",
    "        progress_bar.update(1)\n",
    "\n",
    "    print(f'Epoch at {epoch+1}: Train loss {train_loss/len(train_dataloader):.4f}:')\n",
    "    \n",
    "    teacher_model.eval()\n",
    "    for step, batch in enumerate(eval_dataloader):\n",
    "        batch = {k: v.to(device) for k, v in batch.items()}\n",
    "        with torch.no_grad():\n",
    "            outputs = teacher_model(**batch)\n",
    "    \n",
    "        predictions = outputs.logits.argmax(dim=-1)\n",
    "        # predictions, references = accelerator.gather((predictions, batch[\"labels\"]))\n",
    "        metric.add_batch(\n",
    "            predictions=predictions, \n",
    "            references=batch[\"labels\"])\n",
    "        \n",
    "    eval_metric = metric.compute()\n",
    "    eval_metrics += eval_metric['accuracy'] \n",
    "    print(f\"Epoch at {epoch+1}: Test Acc {eval_metric['accuracy']:.4f}\")\n",
    "    \n",
    "print('Avg Metric', eval_metrics/num_epochs)"
   ]
  }
 ],
 "metadata": {
  "kernelspec": {
   "display_name": "Python 3",
   "language": "python",
   "name": "python3"
  },
  "language_info": {
   "codemirror_mode": {
    "name": "ipython",
    "version": 3
   },
   "file_extension": ".py",
   "mimetype": "text/x-python",
   "name": "python",
   "nbconvert_exporter": "python",
   "pygments_lexer": "ipython3",
   "version": "3.11.9"
  }
 },
 "nbformat": 4,
 "nbformat_minor": 4
}
